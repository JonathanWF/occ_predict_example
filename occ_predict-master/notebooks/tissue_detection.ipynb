{
 "cells": [
  {
   "cell_type": "code",
   "execution_count": null,
   "metadata": {},
   "outputs": [],
   "source": [
    "import os\n",
    "from dotenv import load_dotenv\n",
    "from pathlib import Path \n",
    "from matplotlib.path import Path\n",
    "import girder_client\n",
    "import numpy as np\n",
    "from matplotlib import pylab as plt\n",
    "from matplotlib.colors import ListedColormap\n",
    "import girder_client\n",
    "import matplotlib.tri as T\n",
    "import histomicstk as htk\n",
    "from skimage.morphology import erosion, disk, opening, remove_small_objects\n",
    "from skimage.measure import label, regionprops, regionprops_table\n",
    "from skimage.measure import label\n",
    "from skimage import segmentation\n",
    "\n",
    "import pandas as pd\n",
    "from histomicstk.saliency.tissue_detection import (\n",
    "    get_slide_thumbnail, get_tissue_mask)\n",
    "\n",
    "%matplotlib inline"
   ]
  },
  {
   "cell_type": "code",
   "execution_count": null,
   "metadata": {},
   "outputs": [],
   "source": [
    "env_path= os.path.join('..', \".env\")\n",
    "load_dotenv(dotenv_path=env_path)\n",
    "\n",
    "APIURL = os.getenv('APIURL')\n",
    "APIKEY = os.getenv('APIKEY')\n",
    "SAMPLE_SLIDE_ID = '5e4af18fe2ba484e10a75108' \n",
    "#SAMPLE_SLIDE_ID = \"5e4af108e2ba484e10a750f3\"\n",
    "#SAMPLE_SLIDE_ID = '5fca5ee089f158714d9a9385'\n"
   ]
  },
  {
   "cell_type": "code",
   "execution_count": null,
   "metadata": {},
   "outputs": [],
   "source": [
    "def get_connection(APIURL, APIKEY):\n",
    "    # Authenticate with the server\n",
    "    gc = girder_client.GirderClient(apiUrl=APIURL)\n",
    "    gc.authenticate(apiKey=APIKEY)\n",
    "    return gc"
   ]
  },
  {
   "cell_type": "code",
   "execution_count": null,
   "metadata": {},
   "outputs": [],
   "source": [
    "conn = get_connection(APIURL, APIKEY)"
   ]
  },
  {
   "cell_type": "code",
   "execution_count": null,
   "metadata": {},
   "outputs": [],
   "source": [
    "thumbnail_rgb = get_slide_thumbnail(conn, SAMPLE_SLIDE_ID)\n",
    "(thumb_height, thumb_width, _) = np.shape(thumbnail_rgb)\n",
    "\n",
    "plt.imshow(thumbnail_rgb)"
   ]
  },
  {
   "cell_type": "code",
   "execution_count": null,
   "metadata": {},
   "outputs": [],
   "source": [
    "labeled, mask = get_tissue_mask(\n",
    "        thumbnail_rgb, deconvolve_first=False,\n",
    "        n_thresholding_steps=1, sigma=0.1, min_size=5)"
   ]
  },
  {
   "cell_type": "code",
   "execution_count": null,
   "metadata": {},
   "outputs": [],
   "source": [
    "#Erosion, Opening(instead of erosion)\n",
    "selem = disk(1)\n",
    "# eroded = erosion(mask, selem)\n",
    "# eroded_labelled = label(eroded, background = 0)\n"
   ]
  },
  {
   "cell_type": "code",
   "execution_count": null,
   "metadata": {},
   "outputs": [],
   "source": [
    "opened = opening(mask, selem)\n",
    "\n",
    "# assigning labels to disconnected labels of the mask\n",
    "opened_label = label(opened, background = 0) "
   ]
  },
  {
   "cell_type": "code",
   "execution_count": null,
   "metadata": {
    "scrolled": true
   },
   "outputs": [],
   "source": [
    "vals = np.random.rand(256,3)\n",
    "vals[0, ...] = [0.9, 0.9, 0.9]\n",
    "cMap = ListedColormap(1 - vals)\n",
    "\n",
    "f, ax = plt.subplots(1, 3, figsize=(20, 20))\n",
    "ax[0].imshow(thumbnail_rgb)\n",
    "ax[1].imshow(labeled, cmap=cMap) # all tissue regions\n",
    "ax[2].imshow(opened_label, cmap=cMap) # labels of largest tissue region\n",
    "plt.show()"
   ]
  },
  {
   "cell_type": "code",
   "execution_count": null,
   "metadata": {},
   "outputs": [],
   "source": [
    "props = regionprops_table(opened_label, properties=('area','centroid'))"
   ]
  },
  {
   "cell_type": "code",
   "execution_count": null,
   "metadata": {},
   "outputs": [],
   "source": [
    "from scipy import ndimage as ndi\n",
    "new_bin = remove_small_objects(opened_label, min_size = 5000)\n",
    "filled_bin = ndi.binary_fill_holes(new_bin>0)"
   ]
  },
  {
   "cell_type": "code",
   "execution_count": null,
   "metadata": {},
   "outputs": [],
   "source": [
    "f, ax = plt.subplots(figsize=(20,20))\n",
    "ax.imshow(filled_bin, cmap=plt.cm.gray)\n",
    "plt.show()"
   ]
  },
  {
   "cell_type": "code",
   "execution_count": null,
   "metadata": {},
   "outputs": [],
   "source": [
    "img_tissue_boundary = segmentation.find_boundaries(filled_bin)\n",
    "(tissue_x, tissue_y) = np.nonzero(img_tissue_boundary)"
   ]
  },
  {
   "cell_type": "code",
   "execution_count": null,
   "metadata": {},
   "outputs": [],
   "source": [
    "area = pd.DataFrame(props)\n",
    "#area.sort_values(axis=0, ascending=True, inplace=False )\n",
    "area.sort_values(\"area\", axis = 0, ascending = False,\n",
    "                 inplace = True, na_position ='last')\n",
    "area.head()"
   ]
  }
 ],
 "metadata": {
  "kernelspec": {
   "display_name": "Python 3",
   "language": "python",
   "name": "python3"
  },
  "language_info": {
   "codemirror_mode": {
    "name": "ipython",
    "version": 3
   },
   "file_extension": ".py",
   "mimetype": "text/x-python",
   "name": "python",
   "nbconvert_exporter": "python",
   "pygments_lexer": "ipython3",
   "version": "3.7.6"
  }
 },
 "nbformat": 4,
 "nbformat_minor": 4
}
