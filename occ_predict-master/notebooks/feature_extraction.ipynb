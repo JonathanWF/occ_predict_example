{
 "cells": [
  {
   "cell_type": "markdown",
   "metadata": {},
   "source": [
    "# Testing Feature Extraction for OCC ROI Data"
   ]
  },
  {
   "cell_type": "code",
   "execution_count": null,
   "metadata": {},
   "outputs": [],
   "source": [
    "# Imports\n",
    "import os\n",
    "import glob\n",
    "import argparse\n",
    "\n",
    "import numpy as np \n",
    "import pandas as pd \n",
    "import matplotlib.pyplot as plt\n",
    "import matplotlib.tri as tri\n",
    "\n",
    "from scipy.spatial import Delaunay\n",
    "from scipy.spatial import distance\n",
    "from scipy.spatial import ConvexHull\n",
    "from scipy import stats\n",
    "from shapely.geometry import LineString\n",
    "from shapely.geometry import Polygon"
   ]
  },
  {
   "cell_type": "code",
   "execution_count": null,
   "metadata": {},
   "outputs": [],
   "source": [
    "# Replace parser args\n",
    "geoms_dir = os.path.join('..', 'data', 'roi_geoms')\n",
    "features_dir = os.path.join('..', 'data', 'roi_feats')"
   ]
  },
  {
   "cell_type": "code",
   "execution_count": null,
   "metadata": {},
   "outputs": [],
   "source": [
    "# Descriptive statistics feature calculation\n",
    "def descriptive_stats(x):\n",
    "    minimum = np.amin(x)\n",
    "    maximum = np.amax(x)\n",
    "    mean = np.mean(x)\n",
    "    variance = np.var(x)\n",
    "    standard_deviation = np.std(x)\n",
    "    skewness = stats.skew(x)\n",
    "    kurtosis = stats.kurtosis(x)\n",
    "    moment_5 = stats.moment(x, moment = 5)\n",
    "    moment_6 = stats.moment(x, moment = 6)\n",
    "    moment_7 = stats.moment(x, moment = 7)\n",
    "    moment_8 = stats.moment(x, moment = 8)\n",
    "    moment_9 = stats.moment(x, moment = 9)\n",
    "    moment_10 = stats.moment(x, moment = 10)\n",
    "    moment_11 = stats.moment(x, moment = 11)\n",
    "    geometric_mean = stats.gmean(x)\n",
    "    harmonic_mean = stats.hmean(x)\n",
    "    features = [minimum, maximum, mean, variance, standard_deviation,\\\n",
    "                skewness, kurtosis, moment_5, moment_6, moment_7,\\\n",
    "                moment_8, moment_9, moment_10, moment_11, geometric_mean, harmonic_mean]\n",
    "    return(features)"
   ]
  },
  {
   "cell_type": "code",
   "execution_count": null,
   "metadata": {},
   "outputs": [],
   "source": [
    "# Create the output directory if it does not exist\n",
    "if not os.path.exists(features_dir): \n",
    "    os.makedirs(features_dir)"
   ]
  },
  {
   "cell_type": "code",
   "execution_count": null,
   "metadata": {},
   "outputs": [],
   "source": [
    "# Locate the geoms and set up directories\n",
    "geom_files = glob.glob(os.path.join(geoms_dir, '*.npz'))\n",
    "assert len(geom_files)>0, f'Could not find any geoms in directory {geoms_dir}!'"
   ]
  },
  {
   "cell_type": "code",
   "execution_count": null,
   "metadata": {},
   "outputs": [],
   "source": [
    "# Pull out a single file for testing\n",
    "geom_file = geom_files[3]"
   ]
  },
  {
   "cell_type": "code",
   "execution_count": null,
   "metadata": {},
   "outputs": [],
   "source": [
    "geom_name = os.path.basename(geom_file)\n",
    "feature_name = geom_name.replace('.npz', '_features.npz')\n",
    "feature_path = os.path.join(features_dir, feature_name)"
   ]
  },
  {
   "cell_type": "code",
   "execution_count": null,
   "metadata": {},
   "outputs": [],
   "source": [
    "# Check to see if the features exist\n",
    "if os.path.exists(feature_path):\n",
    "    print(f'\\tFeature {feature_name} exists at {feature_path}, skipping')"
   ]
  },
  {
   "cell_type": "code",
   "execution_count": null,
   "metadata": {},
   "outputs": [],
   "source": [
    "# Load the geom and check that it is valid for feature extraction\n",
    "with np.load(geom_file, allow_pickle=True) as f:\n",
    "    sat_bounds = f['sat_bounds']\n",
    "    sat_centroids = f['sat_centroids']\n",
    "    sat_areas = f['sat_areas']\n",
    "    tum_bounds = f['tum_bounds']\n",
    "    \n",
    "    \n",
    "if len(sat_bounds) == 0:\n",
    "    print('\\tSat bounds is empty!')\n",
    "if len(sat_centroids) == 0:\n",
    "    print('\\tSat centroids are empty!')\n",
    "if len(sat_areas) == 0:\n",
    "    print('\\tSat areas are empty!')\n",
    "if len(sat_centroids) <3:\n",
    "    print('\\tNot enough satellites!')\n",
    "if len(tum_bounds) == 0:\n",
    "    print('\\ttumor boundaries are empty!')"
   ]
  },
  {
   "cell_type": "code",
   "execution_count": null,
   "metadata": {},
   "outputs": [],
   "source": [
    "# Display geometry properties\n",
    "print(f'Shape of sat_bounds: {sat_bounds.shape}')\n",
    "print(f'Shape of sat_centroids: {sat_centroids.shape}')\n",
    "print(f'Shape of sat_areas: {sat_areas.shape}')\n",
    "print(f'Shape of tum_bounds: {tum_bounds.shape}')\n",
    "# DEBUG: Create a function to map the boundaries onto the labelmaps / original slide data"
   ]
  },
  {
   "cell_type": "code",
   "execution_count": null,
   "metadata": {},
   "outputs": [],
   "source": [
    "sat_areas"
   ]
  },
  {
   "cell_type": "markdown",
   "metadata": {},
   "source": [
    "# Satellite Distance Features"
   ]
  },
  {
   "cell_type": "markdown",
   "metadata": {},
   "source": [
    "- For each satellite, calculate the distance from each centroid to each tumor boundary point\n",
    "- Take the minimum distance of that set -- after all sats are processed, we should have 25 minimum values\n",
    "- Put those mins into the descriptive_statistics function -- yields 16 features"
   ]
  },
  {
   "cell_type": "code",
   "execution_count": null,
   "metadata": {},
   "outputs": [],
   "source": [
    "sat_min_distances = np.amin(distance.cdist(sat_centroids, tum_bounds, 'euclidean'), axis=1)\n",
    "sat_min_distances_features = descriptive_stats(sat_min_distances)"
   ]
  },
  {
   "cell_type": "markdown",
   "metadata": {},
   "source": [
    "# Delaunay Triangulation Features"
   ]
  },
  {
   "cell_type": "code",
   "execution_count": null,
   "metadata": {},
   "outputs": [],
   "source": [
    "# Calculate initial triangulation\n",
    "tri = Delaunay(sat_centroids)"
   ]
  },
  {
   "cell_type": "markdown",
   "metadata": {},
   "source": [
    "## Eliminate triangle edges that cross the tumor boundary\n",
    "\n",
    "To do this, we need to:\n",
    "\n",
    "- Find the simplices of the triangle with respect to the tumor boundary\n",
    "- Find which of those simplices are greater than 0 (unique and non-negative)\n",
    "- Create a copy of the simplices and then delete which simplices cross the tumor boundary\n",
    "\n",
    "We are then left with (a) the satellite centroids, and (b) a set of triangles that include those points which do NOT cross the tumor boundary."
   ]
  },
  {
   "cell_type": "code",
   "execution_count": null,
   "metadata": {},
   "outputs": [],
   "source": [
    "# Because of the way the tumor and satellite vertices were created, we need to\n",
    "# rearrange the X and Y coordinates of the tumor boundary parts\n",
    "tum_bounds = np.transpose(np.vstack((tum_bounds[:,1], tum_bounds[:,0])))"
   ]
  },
  {
   "cell_type": "code",
   "execution_count": null,
   "metadata": {},
   "outputs": [],
   "source": [
    "# Grab the simplices\n",
    "eliminate_triangles = tri.find_simplex(tum_bounds)\n",
    "print(f'Length of simplexes that cross the tumor boundary: {len(eliminate_triangles)}')"
   ]
  },
  {
   "cell_type": "code",
   "execution_count": null,
   "metadata": {},
   "outputs": [],
   "source": [
    "# Grab the unique simplices that are greater than -1\n",
    "eliminate_triangles = np.unique(eliminate_triangles[eliminate_triangles>0])\n",
    "print(f'Unique, non-negative simplex coordinates: {eliminate_triangles}')"
   ]
  },
  {
   "cell_type": "code",
   "execution_count": null,
   "metadata": {},
   "outputs": [],
   "source": [
    "# Extract the triangles that are listed in \"eliminate_triangles\"\n",
    "tri_simplices = tri.simplices.copy()\n",
    "tri_simplices = np.delete(tri_simplices, eliminate_triangles, axis=0)"
   ]
  },
  {
   "cell_type": "code",
   "execution_count": null,
   "metadata": {},
   "outputs": [],
   "source": [
    "plt.triplot(sat_centroids[:,0], sat_centroids[:,1], tri_simplices)\n",
    "plt.plot(sat_centroids[:,0], sat_centroids[:,1], 'o')\n",
    "plt.scatter(tum_bounds[:,0], tum_bounds[:,1])\n",
    "plt.show()"
   ]
  },
  {
   "cell_type": "markdown",
   "metadata": {},
   "source": [
    "## Calculate Triangle Length Features"
   ]
  },
  {
   "cell_type": "code",
   "execution_count": null,
   "metadata": {},
   "outputs": [],
   "source": [
    "t = tri.Triangulation(sat_centroids[:,0], sat_centroids[:,1], tri_simplices)"
   ]
  },
  {
   "cell_type": "code",
   "execution_count": null,
   "metadata": {},
   "outputs": [],
   "source": [
    "triangle_lengths = []\n",
    "\n",
    "for edge in t.edges:\n",
    "    x1 = sat_centroids[edge[0], 0]\n",
    "    x2 = sat_centroids[edge[1], 0]\n",
    "    y1 = sat_centroids[edge[0], 1]\n",
    "    y2 = sat_centroids[edge[1], 1]\n",
    "    triangle_lengths.append( np.sqrt((x2-x1)**2 + (y2-y1)**2 ) )\n",
    "\n",
    "triangle_length_features = descriptive_stats(triangle_lengths)"
   ]
  },
  {
   "cell_type": "code",
   "execution_count": null,
   "metadata": {},
   "outputs": [],
   "source": [
    "plt.hist(triangle_lengths)\n",
    "plt.show()"
   ]
  },
  {
   "cell_type": "markdown",
   "metadata": {},
   "source": [
    "## Calculate Triangle Area Features"
   ]
  },
  {
   "cell_type": "code",
   "execution_count": null,
   "metadata": {},
   "outputs": [],
   "source": [
    "triangle_areas = []\n",
    "for simplex in tri_simplices:\n",
    "    # Pull out the points for this triangle\n",
    "    p1 = sat_centroids[simplex[0], :]\n",
    "    p2 = sat_centroids[simplex[1], :]\n",
    "    p3 = sat_centroids[simplex[2], :]\n",
    "    \n",
    "    # Calculate edge lengths for this triangle\n",
    "    e12 = np.sqrt( (p2[0]-p1[0])**2 + (p2[1]-p1[1])**2 )\n",
    "    e13 = np.sqrt( (p3[0]-p1[0])**2 + (p3[1]-p1[1])**2 )\n",
    "    e23 = np.sqrt( (p3[0]-p2[0])**2 + (p3[1]-p2[1])**2 )\n",
    "    \n",
    "    # Calculate area for this triangle\n",
    "    s = (e12 + e13 + e23) / 2\n",
    "    a = np.sqrt( s * (s-e12) * (s-e13) * (s-e23))\n",
    "    triangle_areas.append(a)\n",
    "    \n",
    "triangle_area_features = descriptive_stats(triangle_areas)"
   ]
  },
  {
   "cell_type": "markdown",
   "metadata": {},
   "source": [
    "# Convex Hull / Dispersion Area\n",
    "\n",
    "The goal of these features is to calculate the relative sat area vs. area of \"spread\" away from the tumor. \n",
    "\n",
    "To do this, we will first calculate:\n",
    "\n",
    "1. Satellite areas\n",
    "2. Area of convex hull of satellite areas\n",
    "3. Difference between the two"
   ]
  },
  {
   "cell_type": "code",
   "execution_count": null,
   "metadata": {},
   "outputs": [],
   "source": [
    "# Calculate satellite areas\n",
    "plt.scatter(tum_bounds[:,0], tum_bounds[:,1], c='b')\n",
    "plt.scatter(sat_bounds[:,1], sat_bounds[:,0], c='g')\n",
    "plt.show()"
   ]
  },
  {
   "cell_type": "code",
   "execution_count": null,
   "metadata": {},
   "outputs": [],
   "source": [
    "satellite_areas = []\n",
    "for \n",
    "sat_hull = ConvexHull(sat_bounds)"
   ]
  },
  {
   "cell_type": "code",
   "execution_count": null,
   "metadata": {},
   "outputs": [],
   "source": []
  },
  {
   "cell_type": "code",
   "execution_count": null,
   "metadata": {},
   "outputs": [],
   "source": []
  },
  {
   "cell_type": "code",
   "execution_count": null,
   "metadata": {},
   "outputs": [],
   "source": []
  },
  {
   "cell_type": "code",
   "execution_count": null,
   "metadata": {},
   "outputs": [],
   "source": []
  },
  {
   "cell_type": "code",
   "execution_count": null,
   "metadata": {},
   "outputs": [],
   "source": []
  },
  {
   "cell_type": "code",
   "execution_count": null,
   "metadata": {},
   "outputs": [],
   "source": []
  },
  {
   "cell_type": "code",
   "execution_count": null,
   "metadata": {},
   "outputs": [],
   "source": []
  },
  {
   "cell_type": "code",
   "execution_count": null,
   "metadata": {},
   "outputs": [],
   "source": []
  },
  {
   "cell_type": "code",
   "execution_count": null,
   "metadata": {},
   "outputs": [],
   "source": [
    "# Convex Hull\n",
    "points = np.concatenate((sat_bounds, tum_bounds), axis = 0)\n",
    "hull = ConvexHull(points)\n",
    "sat_hull = ConvexHull(sat_bounds)\n",
    "tum_hull = ConvexHull(tum_bounds)\n",
    "plt.figure(2)\n",
    "plt.plot(points[hull.vertices,0], points[hull.vertices,1], c='g')\n",
    "plt.plot(sat_bounds[sat_hull.vertices, 0], sat_bounds[sat_hull.vertices, 1], c='k')\n",
    "plt.plot(tum_bounds[tum_hull.vertices, 0], tum_bounds[tum_hull.vertices, 1], c='k')\n",
    "for simplex in sat_hull.simplices:\n",
    "    print(simplex)\n",
    "    plt.scatter(sat_bounds[simplex,0], sat_bounds[simplex,1], c='k', alpha=0.5)\n",
    "plt.show()\n",
    "for simplex in tum_hull.simplices:\n",
    "    plt.scatter(tum_bounds[simplex,0], tum_bounds[simplex,1], c='b', alpha=0.5)\n",
    "plt.show()\n",
    "for simplex in hull.simplices:\n",
    "    plt.scatter(points[simplex,0], points[simplex,1], c='r', alpha=0.5)\n",
    "plt.show()\n",
    "\n",
    "Area = (hull.volume)-(sat_hull.volume)-(tum_hull.volume)\n",
    "print(f'Space between tumor and satellites: {Area}')\n",
    "print(f'Total hull area: {hull.volume}')\n",
    "print(f'Satellite hull area: {sat_hull.volume}')\n",
    "print(f'Tumor hull area: {tum_hull.volume}')\n",
    "\n",
    "tum_area = Polygon([[p[0],p[1]] for p in tum_bounds])\n",
    "print(f'Tumor area: {tum_area.area}')\n",
    "\n",
    "\n",
    "# Try \"volume\" here instead of \"area\" -- unsure of the difference \n",
    "Area = hull.volume- (sat_hull.volume+ tum_hull.volume)\n",
    "print(Area)\n",
    "print(f\"hull area: {hull.volume}\")\n",
    "print(f\"sat area: {sat_hull.volume}\")\n",
    "print(f\"tum area: {tum_hull.volume}\")\n"
   ]
  },
  {
   "cell_type": "code",
   "execution_count": null,
   "metadata": {},
   "outputs": [],
   "source": [
    "# Area and Length of sides of each triangle in Delaunay\n",
    "T_points = sat_centroids[tri.simplices]\n",
    "tri_edges = []\n",
    "tri_area = []\n",
    "for T_point in T_points:\n",
    "    t1 = LineString([T_point[0,:], T_point[1,:]])\n",
    "    t2 = LineString([T_point[1,:], T_point[2,:]])\n",
    "    t3 = LineString([T_point[2,:], T_point[0,:]])\n",
    "    t4 = Polygon([T_point[0,:], T_point[1,:], T_point[2,:]])\n",
    "    t_area = t4.area\n",
    "    t_len = [t1.length, t2.length, t3.length]\n",
    "    tri_edges.append(t_len)\n",
    "    tri_area.append(t_area)\n",
    "    #tri_edge_feats = descriptive_stats(tri_edges)\n",
    "tri_area_feats = descriptive_stats(tri_area)\n"
   ]
  }
 ],
 "metadata": {
  "kernelspec": {
   "display_name": "Python 3",
   "language": "python",
   "name": "python3"
  },
  "language_info": {
   "codemirror_mode": {
    "name": "ipython",
    "version": 3
   },
   "file_extension": ".py",
   "mimetype": "text/x-python",
   "name": "python",
   "nbconvert_exporter": "python",
   "pygments_lexer": "ipython3",
   "version": "3.7.6"
  }
 },
 "nbformat": 4,
 "nbformat_minor": 4
}
